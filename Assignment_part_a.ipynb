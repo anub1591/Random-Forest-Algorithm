{
 "cells": [
  {
   "cell_type": "markdown",
   "metadata": {},
   "source": [
    "##### Importing Packages"
   ]
  },
  {
   "cell_type": "code",
   "execution_count": 457,
   "metadata": {},
   "outputs": [],
   "source": [
    "import pandas as pd\n",
    "import numpy as np"
   ]
  },
  {
   "cell_type": "markdown",
   "metadata": {},
   "source": [
    "##### Loading Dataset"
   ]
  },
  {
   "cell_type": "code",
   "execution_count": 458,
   "metadata": {},
   "outputs": [],
   "source": [
    "data = pd.read_csv(\"glass.data.txt\")"
   ]
  },
  {
   "cell_type": "markdown",
   "metadata": {},
   "source": [
    "##### Look at the data / Data head"
   ]
  },
  {
   "cell_type": "code",
   "execution_count": 459,
   "metadata": {},
   "outputs": [
    {
     "data": {
      "text/html": [
       "<div>\n",
       "<style scoped>\n",
       "    .dataframe tbody tr th:only-of-type {\n",
       "        vertical-align: middle;\n",
       "    }\n",
       "\n",
       "    .dataframe tbody tr th {\n",
       "        vertical-align: top;\n",
       "    }\n",
       "\n",
       "    .dataframe thead th {\n",
       "        text-align: right;\n",
       "    }\n",
       "</style>\n",
       "<table border=\"1\" class=\"dataframe\">\n",
       "  <thead>\n",
       "    <tr style=\"text-align: right;\">\n",
       "      <th></th>\n",
       "      <th>id_number</th>\n",
       "      <th>RI</th>\n",
       "      <th>Na</th>\n",
       "      <th>Mg</th>\n",
       "      <th>Al</th>\n",
       "      <th>Si</th>\n",
       "      <th>K</th>\n",
       "      <th>Ca</th>\n",
       "      <th>Ba</th>\n",
       "      <th>Fe</th>\n",
       "      <th>glass_types</th>\n",
       "    </tr>\n",
       "  </thead>\n",
       "  <tbody>\n",
       "    <tr>\n",
       "      <th>0</th>\n",
       "      <td>1</td>\n",
       "      <td>1.52101</td>\n",
       "      <td>13.64</td>\n",
       "      <td>4.49</td>\n",
       "      <td>1.10</td>\n",
       "      <td>71.78</td>\n",
       "      <td>0.06</td>\n",
       "      <td>8.75</td>\n",
       "      <td>0.0</td>\n",
       "      <td>0.0</td>\n",
       "      <td>1</td>\n",
       "    </tr>\n",
       "    <tr>\n",
       "      <th>1</th>\n",
       "      <td>2</td>\n",
       "      <td>1.51761</td>\n",
       "      <td>13.89</td>\n",
       "      <td>3.60</td>\n",
       "      <td>1.36</td>\n",
       "      <td>72.73</td>\n",
       "      <td>0.48</td>\n",
       "      <td>7.83</td>\n",
       "      <td>0.0</td>\n",
       "      <td>0.0</td>\n",
       "      <td>1</td>\n",
       "    </tr>\n",
       "    <tr>\n",
       "      <th>2</th>\n",
       "      <td>3</td>\n",
       "      <td>1.51618</td>\n",
       "      <td>13.53</td>\n",
       "      <td>3.55</td>\n",
       "      <td>1.54</td>\n",
       "      <td>72.99</td>\n",
       "      <td>0.39</td>\n",
       "      <td>7.78</td>\n",
       "      <td>0.0</td>\n",
       "      <td>0.0</td>\n",
       "      <td>1</td>\n",
       "    </tr>\n",
       "    <tr>\n",
       "      <th>3</th>\n",
       "      <td>4</td>\n",
       "      <td>1.51766</td>\n",
       "      <td>13.21</td>\n",
       "      <td>3.69</td>\n",
       "      <td>1.29</td>\n",
       "      <td>72.61</td>\n",
       "      <td>0.57</td>\n",
       "      <td>8.22</td>\n",
       "      <td>0.0</td>\n",
       "      <td>0.0</td>\n",
       "      <td>1</td>\n",
       "    </tr>\n",
       "    <tr>\n",
       "      <th>4</th>\n",
       "      <td>5</td>\n",
       "      <td>1.51742</td>\n",
       "      <td>13.27</td>\n",
       "      <td>3.62</td>\n",
       "      <td>1.24</td>\n",
       "      <td>73.08</td>\n",
       "      <td>0.55</td>\n",
       "      <td>8.07</td>\n",
       "      <td>0.0</td>\n",
       "      <td>0.0</td>\n",
       "      <td>1</td>\n",
       "    </tr>\n",
       "  </tbody>\n",
       "</table>\n",
       "</div>"
      ],
      "text/plain": [
       "   id_number       RI     Na    Mg    Al     Si     K    Ca   Ba   Fe  \\\n",
       "0          1  1.52101  13.64  4.49  1.10  71.78  0.06  8.75  0.0  0.0   \n",
       "1          2  1.51761  13.89  3.60  1.36  72.73  0.48  7.83  0.0  0.0   \n",
       "2          3  1.51618  13.53  3.55  1.54  72.99  0.39  7.78  0.0  0.0   \n",
       "3          4  1.51766  13.21  3.69  1.29  72.61  0.57  8.22  0.0  0.0   \n",
       "4          5  1.51742  13.27  3.62  1.24  73.08  0.55  8.07  0.0  0.0   \n",
       "\n",
       "   glass_types  \n",
       "0            1  \n",
       "1            1  \n",
       "2            1  \n",
       "3            1  \n",
       "4            1  "
      ]
     },
     "execution_count": 459,
     "metadata": {},
     "output_type": "execute_result"
    }
   ],
   "source": [
    "data.head()"
   ]
  },
  {
   "cell_type": "markdown",
   "metadata": {},
   "source": [
    "##### Loading Features and Target"
   ]
  },
  {
   "cell_type": "code",
   "execution_count": 460,
   "metadata": {},
   "outputs": [],
   "source": [
    "X = data.iloc[:, 1:10].values  \n",
    "y = data.iloc[:, 10].values  "
   ]
  },
  {
   "cell_type": "markdown",
   "metadata": {},
   "source": [
    "##### Split Train and Test Sets"
   ]
  },
  {
   "cell_type": "code",
   "execution_count": 461,
   "metadata": {},
   "outputs": [],
   "source": [
    "from sklearn.model_selection import train_test_split  \n",
    "X_train, X_test, y_train, y_test = train_test_split(X, y, test_size=0.20)"
   ]
  },
  {
   "cell_type": "markdown",
   "metadata": {},
   "source": [
    "##### Fitting the model"
   ]
  },
  {
   "cell_type": "code",
   "execution_count": 462,
   "metadata": {},
   "outputs": [],
   "source": [
    "from sklearn.ensemble import RandomForestClassifier\n",
    "clf=RandomForestClassifier(n_estimators=800)\n",
    "clf.fit(X_train,y_train)\n",
    "y_pred=clf.predict(X_test)"
   ]
  },
  {
   "cell_type": "markdown",
   "metadata": {},
   "source": [
    "##### Predicting Metric"
   ]
  },
  {
   "cell_type": "code",
   "execution_count": 463,
   "metadata": {},
   "outputs": [
    {
     "name": "stdout",
     "output_type": "stream",
     "text": [
      "0.2558139534883721\n",
      "[[11  1  0  0  0  0]\n",
      " [ 4  7  0  1  0  0]\n",
      " [ 3  1  0  0  0  0]\n",
      " [ 0  0  0  2  0  1]\n",
      " [ 0  0  0  0  3  0]\n",
      " [ 0  0  0  0  0  9]]\n",
      "              precision    recall  f1-score   support\n",
      "\n",
      "           1       0.61      0.92      0.73        12\n",
      "           2       0.78      0.58      0.67        12\n",
      "           3       0.00      0.00      0.00         4\n",
      "           5       0.67      0.67      0.67         3\n",
      "           6       1.00      1.00      1.00         3\n",
      "           7       0.90      1.00      0.95         9\n",
      "\n",
      "   micro avg       0.74      0.74      0.74        43\n",
      "   macro avg       0.66      0.69      0.67        43\n",
      "weighted avg       0.69      0.74      0.71        43\n",
      "\n",
      "Accuracy: 0.7441860465116279\n"
     ]
    },
    {
     "name": "stderr",
     "output_type": "stream",
     "text": [
      "/anaconda3/lib/python3.6/site-packages/sklearn/metrics/classification.py:1143: UndefinedMetricWarning: Precision and F-score are ill-defined and being set to 0.0 in labels with no predicted samples.\n",
      "  'precision', 'predicted', average, warn_for)\n"
     ]
    }
   ],
   "source": [
    "from sklearn import metrics\n",
    "from sklearn.metrics import classification_report, confusion_matrix \n",
    "import numpy as np\n",
    "print(np.mean(y_pred != y_test))\n",
    "print(confusion_matrix(y_test, y_pred))  \n",
    "print(classification_report(y_test, y_pred)) \n",
    "print(\"Accuracy:\", metrics.accuracy_score(y_test, y_pred))"
   ]
  },
  {
   "cell_type": "markdown",
   "metadata": {},
   "source": [
    "##### Feature Importance"
   ]
  },
  {
   "cell_type": "code",
   "execution_count": 464,
   "metadata": {},
   "outputs": [
    {
     "data": {
      "text/plain": [
       "array([0.15328743, 0.11196248, 0.16487632, 0.15765847, 0.08513268,\n",
       "       0.08550405, 0.13768646, 0.07245416, 0.03143796])"
      ]
     },
     "execution_count": 464,
     "metadata": {},
     "output_type": "execute_result"
    }
   ],
   "source": [
    "clf.feature_importances_"
   ]
  },
  {
   "cell_type": "code",
   "execution_count": 465,
   "metadata": {},
   "outputs": [],
   "source": [
    "features = data.columns.values.tolist()[1:10]\n",
    "feature_imp = pd.Series(clf.feature_importances_,index=features).sort_values(ascending=False)"
   ]
  },
  {
   "cell_type": "code",
   "execution_count": 466,
   "metadata": {},
   "outputs": [
    {
     "data": {
      "text/plain": [
       "Mg    0.164876\n",
       "Al    0.157658\n",
       "RI    0.153287\n",
       "Ca    0.137686\n",
       "Na    0.111962\n",
       "K     0.085504\n",
       "Si    0.085133\n",
       "Ba    0.072454\n",
       "Fe    0.031438\n",
       "dtype: float64"
      ]
     },
     "execution_count": 466,
     "metadata": {},
     "output_type": "execute_result"
    }
   ],
   "source": [
    "feature_imp"
   ]
  },
  {
   "cell_type": "markdown",
   "metadata": {},
   "source": [
    "##### Visualization of Important Features"
   ]
  },
  {
   "cell_type": "code",
   "execution_count": 467,
   "metadata": {},
   "outputs": [
    {
     "name": "stderr",
     "output_type": "stream",
     "text": [
      "No handles with labels found to put in legend.\n"
     ]
    },
    {
     "data": {
      "image/png": "[encoded data removed]",
      "text/plain": [
       "<Figure size 432x288 with 1 Axes>"
      ]
     },
     "metadata": {
      "needs_background": "light"
     },
     "output_type": "display_data"
    }
   ],
   "source": [
    "import matplotlib.pyplot as plt\n",
    "import seaborn as sns\n",
    "%matplotlib inline\n",
    "# Creating a bar plot\n",
    "sns.barplot(x=feature_imp, y=feature_imp.index)\n",
    "# Add labels to your graph\n",
    "plt.xlabel('Feature Importance Score')\n",
    "plt.ylabel('Features')\n",
    "plt.title(\"Visualizing Important Features\")\n",
    "plt.legend()\n",
    "plt.show()"
   ]
  },
  {
   "cell_type": "code",
   "execution_count": 468,
   "metadata": {},
   "outputs": [
    {
     "name": "stdout",
     "output_type": "stream",
     "text": [
      "[[ 1.51721 12.87     3.48     1.33    73.04     0.56     8.43     0.\n",
      "   0.     ]\n",
      " [ 1.51811 12.96     2.96     1.43    72.92     0.6      8.79     0.14\n",
      "   0.     ]\n",
      " [ 1.51869 13.19     3.37     1.18    72.72     0.57     8.83     0.\n",
      "   0.16   ]\n",
      " [ 1.51645 13.4      3.49     1.52    72.65     0.67     8.08     0.\n",
      "   0.1    ]\n",
      " [ 1.51508 15.15     0.       2.25    73.5      0.       8.34     0.63\n",
      "   0.     ]]\n"
     ]
    }
   ],
   "source": [
    "# Print X_train\n",
    "print(X_train[:5])"
   ]
  },
  {
   "cell_type": "code",
   "execution_count": 469,
   "metadata": {},
   "outputs": [],
   "source": [
    "# Print y_train\n",
    "for i in range(len(y_train)):\n",
    "    y_train[i] = y_train[i]-1"
   ]
  },
  {
   "cell_type": "code",
   "execution_count": 470,
   "metadata": {},
   "outputs": [
    {
     "name": "stdout",
     "output_type": "stream",
     "text": [
      "[0 1 0 1 6]\n"
     ]
    }
   ],
   "source": [
    "print(y_train[:5])"
   ]
  },
  {
   "cell_type": "code",
   "execution_count": 471,
   "metadata": {},
   "outputs": [
    {
     "name": "stdout",
     "output_type": "stream",
     "text": [
      "[[ 1.51651 14.38     0.       1.94    73.61     0.       8.48     1.57\n",
      "   0.     ]\n",
      " [ 1.51934 13.64     3.54     0.75    72.65     0.16     8.89     0.15\n",
      "   0.24   ]\n",
      " [ 1.51754 13.39     3.66     1.19    72.79     0.57     8.27     0.\n",
      "   0.11   ]\n",
      " [ 1.5159  13.24     3.34     1.47    73.1      0.39     8.22     0.\n",
      "   0.     ]\n",
      " [ 1.51838 14.32     3.26     2.22    71.25     1.46     5.79     1.63\n",
      "   0.     ]]\n"
     ]
    }
   ],
   "source": [
    "# Print X_test\n",
    "print(X_test[:5])"
   ]
  },
  {
   "cell_type": "code",
   "execution_count": 472,
   "metadata": {},
   "outputs": [],
   "source": [
    "# Print y_test\n",
    "for i in range(len(y_test)):\n",
    "    y_test[i] = y_test[i]-1"
   ]
  },
  {
   "cell_type": "code",
   "execution_count": 473,
   "metadata": {},
   "outputs": [
    {
     "name": "stdout",
     "output_type": "stream",
     "text": [
      "[6 2 0 1 6]\n"
     ]
    }
   ],
   "source": [
    "print(y_test[:5])"
   ]
  },
  {
   "cell_type": "markdown",
   "metadata": {},
   "source": [
    "##### XGBoost"
   ]
  },
  {
   "cell_type": "code",
   "execution_count": 474,
   "metadata": {},
   "outputs": [],
   "source": [
    "import xgboost as xgb\n",
    "\n",
    "dtrain = xgb.DMatrix(X_train, label=y_train)\n",
    "dtest = xgb.DMatrix(X_test, label=y_test)"
   ]
  },
  {
   "cell_type": "markdown",
   "metadata": {},
   "source": [
    "##### Setting Parameters"
   ]
  },
  {
   "cell_type": "code",
   "execution_count": 490,
   "metadata": {},
   "outputs": [],
   "source": [
    "param = {\n",
    "    'max_depth': 4,  # the maximum depth of each tree\n",
    "    'eta': 0.20,  # the training step for each iteration\n",
    "    'silent': 1,  # logging mode - quiet\n",
    "    'objective': 'multi:softprob',  # error evaluation for multiclass training\n",
    "    'num_class': 7}  # the number of classes that exist in this datset\n",
    "num_round = 550  # the number of training iterations\n",
    "\n"
   ]
  },
  {
   "cell_type": "code",
   "execution_count": 491,
   "metadata": {},
   "outputs": [],
   "source": [
    "bst = xgb.train(param, dtrain, num_round)"
   ]
  },
  {
   "cell_type": "code",
   "execution_count": 492,
   "metadata": {},
   "outputs": [],
   "source": [
    "preds = bst.predict(dtest)"
   ]
  },
  {
   "cell_type": "code",
   "execution_count": 493,
   "metadata": {
    "scrolled": true
   },
   "outputs": [
    {
     "name": "stdout",
     "output_type": "stream",
     "text": [
      "[[5.80997257e-05 1.27687148e-04 1.93026848e-04 1.54886566e-05\n",
      "  1.34212594e-03 4.30333847e-03 9.93960261e-01]\n",
      " [9.55878079e-01 1.77387372e-02 2.51964498e-02 2.66877923e-05\n",
      "  3.04955844e-04 4.04480466e-04 4.50616033e-04]\n",
      " [9.48355436e-01 4.70644124e-02 3.16111976e-03 4.14399801e-05\n",
      "  4.35336609e-04 5.64707385e-04 3.77533463e-04]\n",
      " [1.84863864e-03 9.84739304e-01 3.20915319e-03 1.88814316e-04\n",
      "  2.49892613e-03 2.57299654e-03 4.94223367e-03]\n",
      " [3.66513617e-04 3.36380422e-01 2.24825228e-04 3.94335439e-05\n",
      "  1.46195595e-03 1.57479639e-03 6.59952044e-01]\n",
      " [8.93776298e-01 3.46897729e-03 9.98793468e-02 3.37876627e-05\n",
      "  6.95815776e-04 1.59053877e-03 5.55290491e-04]\n",
      " [7.11630225e-01 3.88540025e-03 2.55002350e-01 4.67115206e-05\n",
      "  1.33050664e-03 2.73371693e-02 7.67690653e-04]\n",
      " [6.25773966e-02 9.36262965e-01 8.02558614e-04 6.44481679e-06\n",
      "  6.77042990e-05 8.78243372e-05 1.95131506e-04]\n",
      " [3.52340490e-01 5.57707369e-01 4.91191819e-02 1.11481105e-03\n",
      "  1.17113516e-02 1.51916649e-02 1.28151206e-02]\n",
      " [9.79815722e-01 1.59110855e-02 3.22481361e-03 2.65893414e-05\n",
      "  2.79327185e-04 3.62335995e-04 3.80186131e-04]\n",
      " [2.44895682e-01 7.54491866e-01 1.51339147e-04 1.11085010e-05\n",
      "  1.16697382e-04 1.51376807e-04 1.81914133e-04]\n",
      " [9.60516845e-05 2.11340608e-04 2.72748322e-04 1.96398250e-05\n",
      "  1.70183450e-03 8.47505685e-03 9.89223361e-01]\n",
      " [3.20834253e-04 4.80265153e-04 1.65334583e-04 5.59656619e-05\n",
      "  9.57680214e-03 1.72939654e-02 9.72106814e-01]\n",
      " [6.44645214e-01 1.83854610e-01 1.66002244e-01 3.04083933e-05\n",
      "  8.66137678e-04 1.62858667e-03 2.97281169e-03]\n",
      " [2.15650443e-02 9.75947440e-01 1.50956644e-03 1.75831665e-05\n",
      "  2.73428654e-04 2.39607834e-04 4.47301107e-04]\n",
      " [1.01330085e-03 1.06290840e-02 4.22773184e-03 1.35517141e-04\n",
      "  8.78046453e-01 2.74745096e-03 1.03200525e-01]\n",
      " [1.01408064e-02 4.87868041e-01 4.17555170e-03 3.66859080e-04\n",
      "  4.57238048e-01 3.07842568e-02 9.42646246e-03]\n",
      " [1.82722677e-02 9.76280928e-01 1.72773201e-03 5.89271185e-05\n",
      "  1.09674223e-03 8.03006638e-04 1.76040537e-03]\n",
      " [1.06263370e-03 1.75030506e-03 5.46545314e-04 8.31479629e-05\n",
      "  9.92660880e-01 1.87485607e-03 2.02160212e-03]\n",
      " [9.63300772e-05 4.80431700e-05 4.81359282e-04 1.66239188e-05\n",
      "  1.44049886e-03 6.85833581e-03 9.91058767e-01]\n",
      " [7.06028950e-05 3.82832746e-04 1.94758934e-04 1.80340612e-05\n",
      "  1.56269129e-03 7.44010415e-03 9.90330935e-01]\n",
      " [1.74216184e-04 9.98063743e-01 1.35515921e-03 8.40411667e-06\n",
      "  1.48020408e-04 1.14523973e-04 1.35971408e-04]\n",
      " [8.60819519e-01 1.31967366e-01 5.61698293e-03 1.91842282e-05\n",
      "  3.95076146e-04 8.66605144e-04 3.15287529e-04]\n",
      " [1.15573988e-03 9.94625509e-01 3.62552051e-03 1.17118470e-05\n",
      "  2.17979148e-04 1.59598683e-04 2.03971606e-04]\n",
      " [2.91703880e-04 1.79307759e-02 4.43355180e-03 4.95235145e-05\n",
      "  1.83602970e-03 1.67965528e-03 9.73778725e-01]\n",
      " [5.53912425e-04 1.12408430e-04 6.36399724e-04 2.08644233e-05\n",
      "  1.80794764e-03 1.38274289e-03 9.95485723e-01]\n",
      " [2.82697201e-01 6.31556571e-01 3.32634617e-03 3.65558866e-04\n",
      "  1.07360352e-02 1.95782688e-02 5.17399944e-02]\n",
      " [9.14095104e-01 6.65469375e-03 7.65021592e-02 4.49951112e-05\n",
      "  1.28161861e-03 6.81947044e-04 7.39482348e-04]\n",
      " [9.43895102e-01 4.86200117e-02 7.26488244e-04 1.25400329e-04\n",
      "  1.31735962e-03 1.70884538e-03 3.60676413e-03]\n",
      " [4.92007807e-02 9.48298752e-01 1.00615865e-03 2.18891546e-05\n",
      "  2.29950645e-04 2.98286293e-04 9.44138155e-04]\n",
      " [3.11964937e-03 5.13524190e-03 6.63611759e-03 5.16984786e-04\n",
      "  1.26500856e-02 9.36091721e-01 3.58501971e-02]\n",
      " [8.83866668e-01 2.00343076e-02 7.87531585e-02 1.95133078e-04\n",
      "  4.01852978e-03 9.51152295e-03 3.62071418e-03]\n",
      " [4.63232049e-04 5.43727729e-05 1.35374302e-02 2.72185953e-05\n",
      "  2.35855067e-03 1.51135132e-03 9.82047915e-01]\n",
      " [5.91416843e-03 1.58316791e-02 8.42420571e-03 1.07762951e-03\n",
      "  5.37105381e-01 3.77437711e-01 5.42092621e-02]\n",
      " [9.98261869e-01 1.92470630e-04 4.90085687e-04 1.53050296e-05\n",
      "  2.59042979e-04 5.73488884e-04 2.07790290e-04]\n",
      " [8.82496715e-01 1.10915431e-03 1.13822728e-01 3.33612588e-05\n",
      "  6.87034510e-04 1.30269479e-03 5.48282638e-04]\n",
      " [2.97134101e-01 6.07968986e-01 8.14528614e-02 3.31447256e-04\n",
      "  6.00579102e-03 4.51666955e-03 2.59012682e-03]\n",
      " [3.26568931e-02 9.50106084e-01 3.67410691e-03 6.74819821e-05\n",
      "  1.98186655e-03 3.61413858e-03 7.89939985e-03]\n",
      " [1.11447286e-03 1.14951404e-02 3.35786045e-02 2.34892854e-04\n",
      "  4.13713185e-03 9.25345838e-01 2.40939632e-02]\n",
      " [1.20166577e-02 9.35046494e-01 3.72735062e-03 3.44863831e-04\n",
      "  1.71924494e-02 2.34303176e-02 8.24181456e-03]\n",
      " [2.88242579e-01 3.04215169e-03 6.99984908e-01 9.73789283e-05\n",
      "  1.79275253e-03 5.03331795e-03 1.80687709e-03]\n",
      " [6.63840037e-05 3.67218236e-05 2.14601037e-04 1.54528061e-05\n",
      "  1.33901939e-03 6.66825427e-03 9.91659582e-01]\n",
      " [9.86394405e-01 1.23792980e-02 8.01970775e-04 7.94993230e-06\n",
      "  2.26441727e-04 1.20489254e-04 6.94589180e-05]]\n"
     ]
    }
   ],
   "source": [
    "print(preds)"
   ]
  },
  {
   "cell_type": "code",
   "execution_count": 494,
   "metadata": {},
   "outputs": [
    {
     "name": "stdout",
     "output_type": "stream",
     "text": [
      "0.18604651162790697\n",
      "[[10  1  1  0  0  0]\n",
      " [ 0 12  0  0  0  0]\n",
      " [ 3  1  0  0  0  0]\n",
      " [ 0  0  0  2  0  1]\n",
      " [ 0  0  0  1  2  0]\n",
      " [ 0  0  0  0  0  9]]\n",
      "              precision    recall  f1-score   support\n",
      "\n",
      "           0       0.77      0.83      0.80        12\n",
      "           1       0.86      1.00      0.92        12\n",
      "           2       0.00      0.00      0.00         4\n",
      "           4       0.67      0.67      0.67         3\n",
      "           5       1.00      0.67      0.80         3\n",
      "           6       0.90      1.00      0.95         9\n",
      "\n",
      "   micro avg       0.81      0.81      0.81        43\n",
      "   macro avg       0.70      0.69      0.69        43\n",
      "weighted avg       0.76      0.81      0.78        43\n",
      "\n",
      "Accuracy: 0.813953488372093\n"
     ]
    }
   ],
   "source": [
    "best_preds = np.asarray([np.argmax(line) for line in preds])\n",
    "print(np.mean(best_preds != y_test))\n",
    "print(confusion_matrix(y_test, best_preds))  \n",
    "print(classification_report(y_test, best_preds)) \n",
    "print(\"Accuracy:\", metrics.accuracy_score(y_test, best_preds))"
   ]
  }
 ],
 "metadata": {
  "kernelspec": {
   "display_name": "Python 3",
   "language": "python",
   "name": "python3"
  },
  "language_info": {
   "codemirror_mode": {
    "name": "ipython",
    "version": 3
   },
   "file_extension": ".py",
   "mimetype": "text/x-python",
   "name": "python",
   "nbconvert_exporter": "python",
   "pygments_lexer": "ipython3",
   "version": "3.6.8"
  }
 },
 "nbformat": 4,
 "nbformat_minor": 2
}
